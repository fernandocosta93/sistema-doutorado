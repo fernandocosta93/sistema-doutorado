{
 "cells": [
  {
   "cell_type": "code",
   "execution_count": 2,
   "metadata": {},
   "outputs": [],
   "source": [
    "import pm4py\n",
    "import pandas as pd"
   ]
  },
  {
   "cell_type": "markdown",
   "metadata": {},
   "source": [
    "## Carregando dados"
   ]
  },
  {
   "cell_type": "code",
   "execution_count": 8,
   "metadata": {},
   "outputs": [
    {
     "name": "stderr",
     "output_type": "stream",
     "text": [
      "<ipython-input-8-2dc13a795c6e>:2: DtypeWarning: Columns (1,3) have mixed types. Specify dtype option on import or set low_memory=False.\n",
      "  df = pd.read_csv(path, sep=';', encoding='latin-1')\n"
     ]
    },
    {
     "data": {
      "text/html": [
       "<div>\n",
       "<style scoped>\n",
       "    .dataframe tbody tr th:only-of-type {\n",
       "        vertical-align: middle;\n",
       "    }\n",
       "\n",
       "    .dataframe tbody tr th {\n",
       "        vertical-align: top;\n",
       "    }\n",
       "\n",
       "    .dataframe thead th {\n",
       "        text-align: right;\n",
       "    }\n",
       "</style>\n",
       "<table border=\"1\" class=\"dataframe\">\n",
       "  <thead>\n",
       "    <tr style=\"text-align: right;\">\n",
       "      <th></th>\n",
       "      <th>#NUM_EXPEDIENTE_PETICAO</th>\n",
       "      <th>NUM_PROCESSO_PETICAO</th>\n",
       "      <th>S_N_PETICAO_PRIMARIA</th>\n",
       "      <th>COD_ASSUNTO_PETICAO</th>\n",
       "      <th>DESC_ASSUNTO_PETICAO</th>\n",
       "      <th>DATA_SITUACAO_ATUAL_PETICAO</th>\n",
       "      <th>DESC_SITUACAO_ATUAL_PETICAO</th>\n",
       "      <th>DATA_PRIMEIRA_FINALIZACAO</th>\n",
       "      <th>DATA_FINALIZACAO_ATUAL</th>\n",
       "      <th>DESC_TIPO_DOCUMENTO</th>\n",
       "      <th>DESC_AREA_INTERESSE</th>\n",
       "      <th>DESC_FILA_ANALISE</th>\n",
       "      <th>DESC_SUB_FILA_LISTA_ANALISE</th>\n",
       "      <th>DESC_GRUPO_ETAPA_CICLO_ANALISE</th>\n",
       "      <th>DATA_INI_OCORRENCIA_GRP_ETAPA</th>\n",
       "      <th>DATA_FIM_OCORRENCIA_GRP_ETAPA</th>\n",
       "      <th>ORDEM_OCORRE_GRUPO_ETAPA_ASC</th>\n",
       "      <th>ORDEM_OCORRE_GRUPO_ETAPA_DESC</th>\n",
       "    </tr>\n",
       "  </thead>\n",
       "  <tbody>\n",
       "    <tr>\n",
       "      <th>0</th>\n",
       "      <td>192145032.0</td>\n",
       "      <td>25351052112200348</td>\n",
       "      <td>S</td>\n",
       "      <td>8049</td>\n",
       "      <td>EQUIPAMENTO - Registro de Equipamento para Saú...</td>\n",
       "      <td>03/07/2018 00:00:00</td>\n",
       "      <td>Publicado deferimento</td>\n",
       "      <td>08/19/2004 00:00:00</td>\n",
       "      <td>08/19/2004 00:00:00</td>\n",
       "      <td>Processo</td>\n",
       "      <td>Produtos para Saúde (Correlatos)</td>\n",
       "      <td>Registros</td>\n",
       "      <td>Registros de Equipamentos</td>\n",
       "      <td>Fila de Análise</td>\n",
       "      <td>09/24/2003 00:00:00</td>\n",
       "      <td>05/12/2004 11:04:41</td>\n",
       "      <td>1.0</td>\n",
       "      <td>6.0</td>\n",
       "    </tr>\n",
       "    <tr>\n",
       "      <th>1</th>\n",
       "      <td>192145032.0</td>\n",
       "      <td>25351052112200348</td>\n",
       "      <td>S</td>\n",
       "      <td>8049</td>\n",
       "      <td>EQUIPAMENTO - Registro de Equipamento para Saú...</td>\n",
       "      <td>03/07/2018 00:00:00</td>\n",
       "      <td>Publicado deferimento</td>\n",
       "      <td>08/19/2004 00:00:00</td>\n",
       "      <td>08/19/2004 00:00:00</td>\n",
       "      <td>Processo</td>\n",
       "      <td>Produtos para Saúde (Correlatos)</td>\n",
       "      <td>Registros</td>\n",
       "      <td>Registros de Equipamentos</td>\n",
       "      <td>Exigência</td>\n",
       "      <td>05/12/2004 00:00:00</td>\n",
       "      <td>06/14/2004 00:00:00</td>\n",
       "      <td>2.0</td>\n",
       "      <td>5.0</td>\n",
       "    </tr>\n",
       "    <tr>\n",
       "      <th>2</th>\n",
       "      <td>192145032.0</td>\n",
       "      <td>25351052112200348</td>\n",
       "      <td>S</td>\n",
       "      <td>8049</td>\n",
       "      <td>EQUIPAMENTO - Registro de Equipamento para Saú...</td>\n",
       "      <td>03/07/2018 00:00:00</td>\n",
       "      <td>Publicado deferimento</td>\n",
       "      <td>08/19/2004 00:00:00</td>\n",
       "      <td>08/19/2004 00:00:00</td>\n",
       "      <td>Processo</td>\n",
       "      <td>Produtos para Saúde (Correlatos)</td>\n",
       "      <td>Registros</td>\n",
       "      <td>Registros de Equipamentos</td>\n",
       "      <td>Análise de Cumprimento de Exigência</td>\n",
       "      <td>06/14/2004 00:00:00</td>\n",
       "      <td>06/14/2004 00:00:00</td>\n",
       "      <td>3.0</td>\n",
       "      <td>4.0</td>\n",
       "    </tr>\n",
       "    <tr>\n",
       "      <th>3</th>\n",
       "      <td>192145032.0</td>\n",
       "      <td>25351052112200348</td>\n",
       "      <td>S</td>\n",
       "      <td>8049</td>\n",
       "      <td>EQUIPAMENTO - Registro de Equipamento para Saú...</td>\n",
       "      <td>03/07/2018 00:00:00</td>\n",
       "      <td>Publicado deferimento</td>\n",
       "      <td>08/19/2004 00:00:00</td>\n",
       "      <td>08/19/2004 00:00:00</td>\n",
       "      <td>Processo</td>\n",
       "      <td>Produtos para Saúde (Correlatos)</td>\n",
       "      <td>Registros</td>\n",
       "      <td>Registros de Equipamentos</td>\n",
       "      <td>Análise em Andamento</td>\n",
       "      <td>06/14/2004 00:00:00</td>\n",
       "      <td>08/10/2004 00:00:00</td>\n",
       "      <td>4.0</td>\n",
       "      <td>3.0</td>\n",
       "    </tr>\n",
       "    <tr>\n",
       "      <th>4</th>\n",
       "      <td>192145032.0</td>\n",
       "      <td>25351052112200348</td>\n",
       "      <td>S</td>\n",
       "      <td>8049</td>\n",
       "      <td>EQUIPAMENTO - Registro de Equipamento para Saú...</td>\n",
       "      <td>03/07/2018 00:00:00</td>\n",
       "      <td>Publicado deferimento</td>\n",
       "      <td>08/19/2004 00:00:00</td>\n",
       "      <td>08/19/2004 00:00:00</td>\n",
       "      <td>Processo</td>\n",
       "      <td>Produtos para Saúde (Correlatos)</td>\n",
       "      <td>Registros</td>\n",
       "      <td>Registros de Equipamentos</td>\n",
       "      <td>Análise de Cumprimento de Exigência</td>\n",
       "      <td>08/10/2004 00:00:00</td>\n",
       "      <td>08/10/2004 00:00:00</td>\n",
       "      <td>5.0</td>\n",
       "      <td>2.0</td>\n",
       "    </tr>\n",
       "  </tbody>\n",
       "</table>\n",
       "</div>"
      ],
      "text/plain": [
       "   #NUM_EXPEDIENTE_PETICAO NUM_PROCESSO_PETICAO S_N_PETICAO_PRIMARIA  \\\n",
       "0              192145032.0    25351052112200348                    S   \n",
       "1              192145032.0    25351052112200348                    S   \n",
       "2              192145032.0    25351052112200348                    S   \n",
       "3              192145032.0    25351052112200348                    S   \n",
       "4              192145032.0    25351052112200348                    S   \n",
       "\n",
       "  COD_ASSUNTO_PETICAO                               DESC_ASSUNTO_PETICAO  \\\n",
       "0                8049  EQUIPAMENTO - Registro de Equipamento para Saú...   \n",
       "1                8049  EQUIPAMENTO - Registro de Equipamento para Saú...   \n",
       "2                8049  EQUIPAMENTO - Registro de Equipamento para Saú...   \n",
       "3                8049  EQUIPAMENTO - Registro de Equipamento para Saú...   \n",
       "4                8049  EQUIPAMENTO - Registro de Equipamento para Saú...   \n",
       "\n",
       "  DATA_SITUACAO_ATUAL_PETICAO DESC_SITUACAO_ATUAL_PETICAO  \\\n",
       "0         03/07/2018 00:00:00       Publicado deferimento   \n",
       "1         03/07/2018 00:00:00       Publicado deferimento   \n",
       "2         03/07/2018 00:00:00       Publicado deferimento   \n",
       "3         03/07/2018 00:00:00       Publicado deferimento   \n",
       "4         03/07/2018 00:00:00       Publicado deferimento   \n",
       "\n",
       "  DATA_PRIMEIRA_FINALIZACAO DATA_FINALIZACAO_ATUAL DESC_TIPO_DOCUMENTO  \\\n",
       "0       08/19/2004 00:00:00    08/19/2004 00:00:00            Processo   \n",
       "1       08/19/2004 00:00:00    08/19/2004 00:00:00            Processo   \n",
       "2       08/19/2004 00:00:00    08/19/2004 00:00:00            Processo   \n",
       "3       08/19/2004 00:00:00    08/19/2004 00:00:00            Processo   \n",
       "4       08/19/2004 00:00:00    08/19/2004 00:00:00            Processo   \n",
       "\n",
       "                DESC_AREA_INTERESSE DESC_FILA_ANALISE  \\\n",
       "0  Produtos para Saúde (Correlatos)         Registros   \n",
       "1  Produtos para Saúde (Correlatos)         Registros   \n",
       "2  Produtos para Saúde (Correlatos)         Registros   \n",
       "3  Produtos para Saúde (Correlatos)         Registros   \n",
       "4  Produtos para Saúde (Correlatos)         Registros   \n",
       "\n",
       "  DESC_SUB_FILA_LISTA_ANALISE       DESC_GRUPO_ETAPA_CICLO_ANALISE  \\\n",
       "0   Registros de Equipamentos                      Fila de Análise   \n",
       "1   Registros de Equipamentos                            Exigência   \n",
       "2   Registros de Equipamentos  Análise de Cumprimento de Exigência   \n",
       "3   Registros de Equipamentos                 Análise em Andamento   \n",
       "4   Registros de Equipamentos  Análise de Cumprimento de Exigência   \n",
       "\n",
       "  DATA_INI_OCORRENCIA_GRP_ETAPA DATA_FIM_OCORRENCIA_GRP_ETAPA  \\\n",
       "0           09/24/2003 00:00:00           05/12/2004 11:04:41   \n",
       "1           05/12/2004 00:00:00           06/14/2004 00:00:00   \n",
       "2           06/14/2004 00:00:00           06/14/2004 00:00:00   \n",
       "3           06/14/2004 00:00:00           08/10/2004 00:00:00   \n",
       "4           08/10/2004 00:00:00           08/10/2004 00:00:00   \n",
       "\n",
       "   ORDEM_OCORRE_GRUPO_ETAPA_ASC  ORDEM_OCORRE_GRUPO_ETAPA_DESC  \n",
       "0                           1.0                            6.0  \n",
       "1                           2.0                            5.0  \n",
       "2                           3.0                            4.0  \n",
       "3                           4.0                            3.0  \n",
       "4                           5.0                            2.0  "
      ]
     },
     "execution_count": 8,
     "metadata": {},
     "output_type": "execute_result"
    }
   ],
   "source": [
    "path = 'logs/anvisa.CSV'\n",
    "df = pd.read_csv(path, sep=';', encoding='latin-1')\n",
    "df = df.dropna()\n",
    "df.head()"
   ]
  },
  {
   "cell_type": "markdown",
   "metadata": {},
   "source": [
    "## Separando todas atividades"
   ]
  },
  {
   "cell_type": "code",
   "execution_count": 9,
   "metadata": {},
   "outputs": [
    {
     "data": {
      "text/plain": [
       "['Fila de Análise',\n",
       " 'Exigência',\n",
       " 'Análise de Cumprimento de Exigência',\n",
       " 'Análise em Andamento',\n",
       " 'Finalização',\n",
       " 'Recurso',\n",
       " 'Outras Etapas',\n",
       " 'Sobrestado Anvisa',\n",
       " 'Sobrestado Externo']"
      ]
     },
     "execution_count": 9,
     "metadata": {},
     "output_type": "execute_result"
    }
   ],
   "source": [
    "coluna_atividades = 'DESC_GRUPO_ETAPA_CICLO_ANALISE'\n",
    "todas_atividades = df[coluna_atividades].unique().tolist()\n",
    "todas_atividades"
   ]
  },
  {
   "cell_type": "markdown",
   "metadata": {},
   "source": [
    "## Criar texto para salvar todas atividades"
   ]
  },
  {
   "cell_type": "code",
   "execution_count": 38,
   "metadata": {},
   "outputs": [
    {
     "data": {
      "text/plain": [
       "'As ações que são realizadas durante a execução do processo {{processo}} são as seguintes:\\n\\n{{lista_atividades}}\\n\\nCada vez que o processo {{processo}} ocorre, algumas dessas ou todas atividades são realizadas.\\nAs atividades podem ser observadas nos retângulos do modelo de processo, como pode ser observada na imagem.\\nO número entre parênteses ao lado do nome da atividade indica a frequência que tal atividade é executada.'"
      ]
     },
     "execution_count": 38,
     "metadata": {},
     "output_type": "execute_result"
    }
   ],
   "source": [
    "path_file_todas_atividades = 'template_matching/texto_atividades.txt'\n",
    "\n",
    "with open(path_file_todas_atividades, 'r', encoding='utf-8') as file:\n",
    "    conteudo = file.read()\n",
    "\n",
    "conteudo"
   ]
  },
  {
   "cell_type": "markdown",
   "metadata": {},
   "source": [
    "### Criar lista de atividades"
   ]
  },
  {
   "cell_type": "code",
   "execution_count": 39,
   "metadata": {},
   "outputs": [
    {
     "data": {
      "text/plain": [
       "'<ul><li>Fila de Análise</li><li>Exigência</li><li>Análise de Cumprimento de Exigência</li><li>Análise em Andamento</li><li>Finalização</li><li>Recurso</li><li>Outras Etapas</li><li>Sobrestado Anvisa</li><li>Sobrestado Externo</li></ul>'"
      ]
     },
     "execution_count": 39,
     "metadata": {},
     "output_type": "execute_result"
    }
   ],
   "source": [
    "lista_atividade = '<ul>'\n",
    "for atividade in todas_atividades:\n",
    "    lista_atividade = lista_atividade + '<li>' + atividade + '</li>'\n",
    "\n",
    "lista_atividade = lista_atividade + '</ul>'\n",
    "lista_atividade"
   ]
  },
  {
   "cell_type": "code",
   "execution_count": 40,
   "metadata": {},
   "outputs": [],
   "source": [
    "processo = 'da Anvisa'"
   ]
  },
  {
   "cell_type": "code",
   "execution_count": 41,
   "metadata": {},
   "outputs": [
    {
     "data": {
      "text/plain": [
       "'As ações que são realizadas durante a execução do processo da Anvisa são as seguintes:\\n\\n<ul><li>Fila de Análise</li><li>Exigência</li><li>Análise de Cumprimento de Exigência</li><li>Análise em Andamento</li><li>Finalização</li><li>Recurso</li><li>Outras Etapas</li><li>Sobrestado Anvisa</li><li>Sobrestado Externo</li></ul>\\n\\nCada vez que o processo da Anvisa ocorre, algumas dessas ou todas atividades são realizadas.\\nAs atividades podem ser observadas nos retângulos do modelo de processo, como pode ser observada na imagem.\\nO número entre parênteses ao lado do nome da atividade indica a frequência que tal atividade é executada.'"
      ]
     },
     "execution_count": 41,
     "metadata": {},
     "output_type": "execute_result"
    }
   ],
   "source": [
    "conteudo = conteudo.replace(\"{{processo}}\", processo)\n",
    "conteudo = conteudo.replace('{{lista_atividades}}', lista_atividade)\n",
    "conteudo"
   ]
  },
  {
   "cell_type": "markdown",
   "metadata": {},
   "source": [
    "### Salvar texto de todas atividades"
   ]
  },
  {
   "cell_type": "code",
   "execution_count": 42,
   "metadata": {},
   "outputs": [],
   "source": [
    "path_salvar_file = 'template_matching/anvisa/texto_atividades.txt'\n",
    "with open(path_salvar_file, 'w', encoding='utf-8') as file:\n",
    "    file.write(conteudo)"
   ]
  },
  {
   "cell_type": "markdown",
   "metadata": {},
   "source": [
    "## Pegar atividades iniciais"
   ]
  },
  {
   "cell_type": "code",
   "execution_count": 19,
   "metadata": {},
   "outputs": [
    {
     "data": {
      "text/html": [
       "<div>\n",
       "<style scoped>\n",
       "    .dataframe tbody tr th:only-of-type {\n",
       "        vertical-align: middle;\n",
       "    }\n",
       "\n",
       "    .dataframe tbody tr th {\n",
       "        vertical-align: top;\n",
       "    }\n",
       "\n",
       "    .dataframe thead th {\n",
       "        text-align: right;\n",
       "    }\n",
       "</style>\n",
       "<table border=\"1\" class=\"dataframe\">\n",
       "  <thead>\n",
       "    <tr style=\"text-align: right;\">\n",
       "      <th></th>\n",
       "      <th>case_id</th>\n",
       "      <th>activity</th>\n",
       "      <th>timestamp_log</th>\n",
       "      <th>case:concept:name</th>\n",
       "      <th>concept:name</th>\n",
       "      <th>time:timestamp</th>\n",
       "      <th>@@index</th>\n",
       "      <th>@@case_index</th>\n",
       "    </tr>\n",
       "  </thead>\n",
       "  <tbody>\n",
       "    <tr>\n",
       "      <th>0</th>\n",
       "      <td>1.000008e+07</td>\n",
       "      <td>Fila de Análise</td>\n",
       "      <td>2008-01-07 00:00:00+00:00</td>\n",
       "      <td>10000085.0</td>\n",
       "      <td>Fila de Análise</td>\n",
       "      <td>2008-01-07 00:00:00+00:00</td>\n",
       "      <td>0</td>\n",
       "      <td>0</td>\n",
       "    </tr>\n",
       "    <tr>\n",
       "      <th>1</th>\n",
       "      <td>1.000008e+07</td>\n",
       "      <td>Análise em Andamento</td>\n",
       "      <td>2008-02-07 00:00:00+00:00</td>\n",
       "      <td>10000085.0</td>\n",
       "      <td>Análise em Andamento</td>\n",
       "      <td>2008-02-07 00:00:00+00:00</td>\n",
       "      <td>1</td>\n",
       "      <td>0</td>\n",
       "    </tr>\n",
       "    <tr>\n",
       "      <th>2</th>\n",
       "      <td>1.000008e+07</td>\n",
       "      <td>Finalização</td>\n",
       "      <td>2008-02-18 00:00:00+00:00</td>\n",
       "      <td>10000085.0</td>\n",
       "      <td>Finalização</td>\n",
       "      <td>2008-02-18 00:00:00+00:00</td>\n",
       "      <td>2</td>\n",
       "      <td>0</td>\n",
       "    </tr>\n",
       "    <tr>\n",
       "      <th>3</th>\n",
       "      <td>1.000016e+09</td>\n",
       "      <td>Fila de Análise</td>\n",
       "      <td>2023-09-27 13:20:00+00:00</td>\n",
       "      <td>1000016234.0</td>\n",
       "      <td>Fila de Análise</td>\n",
       "      <td>2023-09-27 13:20:00+00:00</td>\n",
       "      <td>3</td>\n",
       "      <td>1</td>\n",
       "    </tr>\n",
       "    <tr>\n",
       "      <th>4</th>\n",
       "      <td>1.000016e+09</td>\n",
       "      <td>Finalização</td>\n",
       "      <td>2023-10-09 00:00:00+00:00</td>\n",
       "      <td>1000016234.0</td>\n",
       "      <td>Finalização</td>\n",
       "      <td>2023-10-09 00:00:00+00:00</td>\n",
       "      <td>4</td>\n",
       "      <td>1</td>\n",
       "    </tr>\n",
       "  </tbody>\n",
       "</table>\n",
       "</div>"
      ],
      "text/plain": [
       "        case_id              activity             timestamp_log  \\\n",
       "0  1.000008e+07       Fila de Análise 2008-01-07 00:00:00+00:00   \n",
       "1  1.000008e+07  Análise em Andamento 2008-02-07 00:00:00+00:00   \n",
       "2  1.000008e+07           Finalização 2008-02-18 00:00:00+00:00   \n",
       "3  1.000016e+09       Fila de Análise 2023-09-27 13:20:00+00:00   \n",
       "4  1.000016e+09           Finalização 2023-10-09 00:00:00+00:00   \n",
       "\n",
       "  case:concept:name          concept:name            time:timestamp  @@index  \\\n",
       "0        10000085.0       Fila de Análise 2008-01-07 00:00:00+00:00        0   \n",
       "1        10000085.0  Análise em Andamento 2008-02-07 00:00:00+00:00        1   \n",
       "2        10000085.0           Finalização 2008-02-18 00:00:00+00:00        2   \n",
       "3      1000016234.0       Fila de Análise 2023-09-27 13:20:00+00:00        3   \n",
       "4      1000016234.0           Finalização 2023-10-09 00:00:00+00:00        4   \n",
       "\n",
       "   @@case_index  \n",
       "0             0  \n",
       "1             0  \n",
       "2             0  \n",
       "3             1  \n",
       "4             1  "
      ]
     },
     "execution_count": 19,
     "metadata": {},
     "output_type": "execute_result"
    }
   ],
   "source": [
    "df_log = df[['#NUM_EXPEDIENTE_PETICAO', 'DESC_GRUPO_ETAPA_CICLO_ANALISE', 'DATA_FIM_OCORRENCIA_GRP_ETAPA']]\n",
    "df_log = df_log.rename(columns={'#NUM_EXPEDIENTE_PETICAO': 'case_id',\n",
    "                       'DESC_GRUPO_ETAPA_CICLO_ANALISE': 'activity',\n",
    "                       'DATA_FIM_OCORRENCIA_GRP_ETAPA': 'timestamp_log'})\n",
    "df_log = pm4py.format_dataframe(df_log, case_id='case_id', activity_key='activity', timestamp_key='timestamp_log')\n",
    "df_log.head()"
   ]
  },
  {
   "cell_type": "code",
   "execution_count": 20,
   "metadata": {},
   "outputs": [],
   "source": [
    "df_log = df_log.drop(['case_id', 'activity', 'timestamp_log'], axis=1)\n",
    "df_log['time:timestamp'] = pd.to_datetime(df_log['time:timestamp'])\n",
    "event_log = pm4py.convert_to_event_log(df_log)"
   ]
  },
  {
   "cell_type": "code",
   "execution_count": 21,
   "metadata": {},
   "outputs": [
    {
     "data": {
      "text/plain": [
       "[{'attributes': {'concept:name': '10000085.0'}, 'events': [{'concept:name': 'Fila de Análise', 'time:timestamp': Timestamp('2008-01-07 00:00:00+0000', tz='UTC'), '@@index': 0, '@@case_index': 0}, '..', {'concept:name': 'Finalização', 'time:timestamp': Timestamp('2008-02-18 00:00:00+0000', tz='UTC'), '@@index': 2, '@@case_index': 0}]}, '....', {'attributes': {'concept:name': '999994179.0'}, 'events': [{'concept:name': 'Fila de Análise', 'time:timestamp': Timestamp('2017-06-28 13:46:00+0000', tz='UTC'), '@@index': 745261, '@@case_index': 195249}, '..', {'concept:name': 'Finalização', 'time:timestamp': Timestamp('2017-07-10 00:00:00+0000', tz='UTC'), '@@index': 745262, '@@case_index': 195249}]}]"
      ]
     },
     "execution_count": 21,
     "metadata": {},
     "output_type": "execute_result"
    }
   ],
   "source": [
    "event_log"
   ]
  },
  {
   "cell_type": "code",
   "execution_count": 22,
   "metadata": {},
   "outputs": [
    {
     "data": {
      "text/plain": [
       "{'Fila de Análise': 195215,\n",
       " 'Finalização': 16,\n",
       " 'Análise em Andamento': 18,\n",
       " 'Exigência': 1}"
      ]
     },
     "execution_count": 22,
     "metadata": {},
     "output_type": "execute_result"
    }
   ],
   "source": [
    "atividades_iniciais = pm4py.get_start_activities(event_log)\n",
    "atividades_iniciais"
   ]
  },
  {
   "cell_type": "code",
   "execution_count": 26,
   "metadata": {},
   "outputs": [
    {
     "data": {
      "text/plain": [
       "'<ul><li>Fila de Análise</li><li>Finalização</li><li>Análise em Andamento</li><li>Exigência</li></ul>'"
      ]
     },
     "execution_count": 26,
     "metadata": {},
     "output_type": "execute_result"
    }
   ],
   "source": [
    "lista_atividades_iniciais = '<ul>'\n",
    "for atividade in atividades_iniciais:\n",
    "    lista_atividades_iniciais = lista_atividades_iniciais + '<li>' + atividade + '</li>'\n",
    "\n",
    "lista_atividades_iniciais = lista_atividades_iniciais + '</ul>'\n",
    "lista_atividades_iniciais"
   ]
  },
  {
   "cell_type": "code",
   "execution_count": 30,
   "metadata": {},
   "outputs": [
    {
     "data": {
      "text/plain": [
       "'As atividades que podem iniciar o processo {{processo}}, ou seja, aquelas que acontecem primeiro são:\\n\\n{{lista_atividades_iniciais}}\\n\\nEssas atividades iniciais podem ser encontradas no modelo de processo com setas que partem do círculo verde (conforme a primeira imagem)\\n para as atividades da lista acima. \\nA representação de uma atividade inicial pode ser visualizada ao lado.'"
      ]
     },
     "execution_count": 30,
     "metadata": {},
     "output_type": "execute_result"
    }
   ],
   "source": [
    "path_texto_atividades_iniciais = 'template_matching/texto_atividades_iniciais.txt'\n",
    "with open(path_texto_atividades_iniciais, 'r', encoding='utf-8') as file:\n",
    "    conteudo = file.read()\n",
    "\n",
    "conteudo"
   ]
  },
  {
   "cell_type": "code",
   "execution_count": 31,
   "metadata": {},
   "outputs": [
    {
     "data": {
      "text/plain": [
       "'As atividades que podem iniciar o processo da Anvisa, ou seja, aquelas que acontecem primeiro são:\\n\\n<ul><li>Fila de Análise</li><li>Finalização</li><li>Análise em Andamento</li><li>Exigência</li></ul>\\n\\nEssas atividades iniciais podem ser encontradas no modelo de processo com setas que partem do círculo verde (conforme a primeira imagem)\\n para as atividades da lista acima. \\nA representação de uma atividade inicial pode ser visualizada ao lado.'"
      ]
     },
     "execution_count": 31,
     "metadata": {},
     "output_type": "execute_result"
    }
   ],
   "source": [
    "conteudo = conteudo.replace(\"{{processo}}\", processo)\n",
    "conteudo = conteudo.replace('{{lista_atividades_iniciais}}', lista_atividades_iniciais)\n",
    "conteudo"
   ]
  },
  {
   "cell_type": "code",
   "execution_count": 32,
   "metadata": {},
   "outputs": [],
   "source": [
    "path_salvar_file = 'template_matching/anvisa/texto_atividades_iniciais.txt'\n",
    "with open(path_salvar_file, 'w', encoding='utf-8') as file:\n",
    "    file.write(conteudo)"
   ]
  },
  {
   "cell_type": "markdown",
   "metadata": {},
   "source": [
    "## Pegar atividades finais"
   ]
  },
  {
   "cell_type": "code",
   "execution_count": 33,
   "metadata": {},
   "outputs": [
    {
     "data": {
      "text/plain": [
       "{'Finalização': 184642,\n",
       " 'Análise de Cumprimento de Exigência': 464,\n",
       " 'Outras Etapas': 1733,\n",
       " 'Fila de Análise': 6414,\n",
       " 'Recurso': 945,\n",
       " 'Análise em Andamento': 642,\n",
       " 'Exigência': 410}"
      ]
     },
     "execution_count": 33,
     "metadata": {},
     "output_type": "execute_result"
    }
   ],
   "source": [
    "atividades_finais = pm4py.get_end_activities(event_log)\n",
    "atividades_finais"
   ]
  },
  {
   "cell_type": "code",
   "execution_count": 34,
   "metadata": {},
   "outputs": [
    {
     "data": {
      "text/plain": [
       "'<ul><li>Finalização</li><li>Análise de Cumprimento de Exigência</li><li>Outras Etapas</li><li>Fila de Análise</li><li>Recurso</li><li>Análise em Andamento</li><li>Exigência</li></ul>'"
      ]
     },
     "execution_count": 34,
     "metadata": {},
     "output_type": "execute_result"
    }
   ],
   "source": [
    "lista_atividades_finais = '<ul>'\n",
    "for atividade in atividades_finais:\n",
    "    lista_atividades_finais = lista_atividades_finais + '<li>' + atividade + '</li>'\n",
    "\n",
    "lista_atividades_finais = lista_atividades_finais + '</ul>'\n",
    "lista_atividades_finais"
   ]
  },
  {
   "cell_type": "code",
   "execution_count": 35,
   "metadata": {},
   "outputs": [
    {
     "data": {
      "text/plain": [
       "'As atividades que podem encerrar o processo {{processo}}, ou seja, aquelas que acontecem no final são:\\n\\n{{lista_atividades_finais}}\\n\\nEssas atividades podem ser encontradas no modelo de processo em que existem setas apontando a partir dessas atividades \\nlistadas acima para o círculo laranja (primeira imagem).\\nA representação de uma atividade final pode ser visualizada ao lado (segunda imagem).\\n'"
      ]
     },
     "execution_count": 35,
     "metadata": {},
     "output_type": "execute_result"
    }
   ],
   "source": [
    "path_texto_atividades_finais = 'template_matching/texto_atividades_finais.txt'\n",
    "with open(path_texto_atividades_finais, 'r', encoding='utf-8') as file:\n",
    "    conteudo = file.read()\n",
    "\n",
    "conteudo"
   ]
  },
  {
   "cell_type": "code",
   "execution_count": 36,
   "metadata": {},
   "outputs": [
    {
     "data": {
      "text/plain": [
       "'As atividades que podem encerrar o processo da Anvisa, ou seja, aquelas que acontecem no final são:\\n\\n<ul><li>Finalização</li><li>Análise de Cumprimento de Exigência</li><li>Outras Etapas</li><li>Fila de Análise</li><li>Recurso</li><li>Análise em Andamento</li><li>Exigência</li></ul>\\n\\nEssas atividades podem ser encontradas no modelo de processo em que existem setas apontando a partir dessas atividades \\nlistadas acima para o círculo laranja (primeira imagem).\\nA representação de uma atividade final pode ser visualizada ao lado (segunda imagem).\\n'"
      ]
     },
     "execution_count": 36,
     "metadata": {},
     "output_type": "execute_result"
    }
   ],
   "source": [
    "conteudo = conteudo.replace(\"{{processo}}\", processo)\n",
    "conteudo = conteudo.replace('{{lista_atividades_finais}}', lista_atividades_finais)\n",
    "conteudo"
   ]
  },
  {
   "cell_type": "code",
   "execution_count": 37,
   "metadata": {},
   "outputs": [],
   "source": [
    "path_salvar_file = 'template_matching/anvisa/texto_atividades_finais.txt'\n",
    "with open(path_salvar_file, 'w', encoding='utf-8') as file:\n",
    "    file.write(conteudo)"
   ]
  },
  {
   "cell_type": "code",
   "execution_count": null,
   "metadata": {},
   "outputs": [],
   "source": []
  }
 ],
 "metadata": {
  "kernelspec": {
   "display_name": "base",
   "language": "python",
   "name": "python3"
  },
  "language_info": {
   "codemirror_mode": {
    "name": "ipython",
    "version": 3
   },
   "file_extension": ".py",
   "mimetype": "text/x-python",
   "name": "python",
   "nbconvert_exporter": "python",
   "pygments_lexer": "ipython3",
   "version": "3.8.8"
  }
 },
 "nbformat": 4,
 "nbformat_minor": 2
}
